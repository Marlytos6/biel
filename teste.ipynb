{
 "cells": [
  {
   "cell_type": "code",
   "execution_count": 28,
   "metadata": {},
   "outputs": [],
   "source": [
    "import requests as req\n",
    "import json"
   ]
  },
  {
   "cell_type": "code",
   "execution_count": 39,
   "metadata": {},
   "outputs": [
    {
     "name": "stdout",
     "output_type": "stream",
     "text": [
      "{'Claudia': {'email': 'claudia@gmail.com', 'senha': 321}, 'Pedro': {'email': 'pedro@gmail.com', 'senha': 1234}}\n"
     ]
    }
   ],
   "source": [
    "# faz a leitura dos dados do banco de dados\n",
    "link = 'https://base-login-112c0-default-rtdb.firebaseio.com/clientes'\n",
    "requisicao = req.get(f'{link}/.json')\n",
    "dic = requisicao.json()\n",
    "print(dic)"
   ]
  },
  {
   "cell_type": "code",
   "execution_count": 35,
   "metadata": {},
   "outputs": [
    {
     "name": "stdout",
     "output_type": "stream",
     "text": [
      "<Response [200]>\n",
      "null\n"
     ]
    }
   ],
   "source": [
    "# deleta um usuário\n",
    "requisicao = req.delete(f'{link}/-N-k4aw0cx4n0NfzpP6r/.json', )\n",
    "print(requisicao)\n",
    "print(requisicao.text)"
   ]
  },
  {
   "cell_type": "code",
   "execution_count": 36,
   "metadata": {},
   "outputs": [
    {
     "name": "stdout",
     "output_type": "stream",
     "text": [
      "<Response [200]>\n",
      "{\"name\":\"-N-k5w1ml5CVEeqEAGkF\"}\n"
     ]
    }
   ],
   "source": [
    "# adiciona um usuario\n",
    "joao = {'email':'joao@gmail.com', 'senha':8547}\n",
    "requisicao = req.post(f'{link}/.json', json.dumps(joao))\n",
    "print(requisicao)\n",
    "print(requisicao.text)"
   ]
  },
  {
   "cell_type": "code",
   "execution_count": 38,
   "metadata": {},
   "outputs": [
    {
     "name": "stdout",
     "output_type": "stream",
     "text": [
      "<Response [200]>\n",
      "{\"senha\":321}\n"
     ]
    }
   ],
   "source": [
    "# altera a senha de um usuario\n",
    "mudanca = {'senha':321}\n",
    "requisicao = req.patch(f'{link}/Claudia/.json', json.dumps(mudanca))\n",
    "print(requisicao)\n",
    "print(requisicao.text)"
   ]
  }
 ],
 "metadata": {
  "interpreter": {
   "hash": "afcd8a4472e9fe20e94ff2b92acb1a517cbfd3d0e0ebc83b8f1c1f38bddabf98"
  },
  "kernelspec": {
   "display_name": "Python 3.9.7 ('base')",
   "language": "python",
   "name": "python3"
  },
  "language_info": {
   "codemirror_mode": {
    "name": "ipython",
    "version": 3
   },
   "file_extension": ".py",
   "mimetype": "text/x-python",
   "name": "python",
   "nbconvert_exporter": "python",
   "pygments_lexer": "ipython3",
   "version": "3.9.7"
  },
  "orig_nbformat": 4
 },
 "nbformat": 4,
 "nbformat_minor": 2
}
